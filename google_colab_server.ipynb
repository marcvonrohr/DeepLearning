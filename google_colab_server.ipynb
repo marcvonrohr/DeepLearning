{
 "cells": [
  {
   "cell_type": "code",
   "execution_count": null,
   "id": "54242527",
   "metadata": {},
   "outputs": [
    {
     "name": "stdout",
     "output_type": "stream",
     "text": [
      "Requirement already satisfied: vscode-colab in ./.venv/lib/python3.12/site-packages (0.3.1)\n",
      "Requirement already satisfied: requests in ./.venv/lib/python3.12/site-packages (from vscode-colab) (2.32.5)\n",
      "Requirement already satisfied: ipython in ./.venv/lib/python3.12/site-packages (from vscode-colab) (9.6.0)\n",
      "Requirement already satisfied: jinja2 in ./.venv/lib/python3.12/site-packages (from vscode-colab) (3.1.6)\n",
      "Requirement already satisfied: loguru in ./.venv/lib/python3.12/site-packages (from vscode-colab) (0.7.3)\n",
      "Requirement already satisfied: decorator in ./.venv/lib/python3.12/site-packages (from ipython->vscode-colab) (5.2.1)\n",
      "Requirement already satisfied: ipython-pygments-lexers in ./.venv/lib/python3.12/site-packages (from ipython->vscode-colab) (1.1.1)\n",
      "Requirement already satisfied: jedi>=0.16 in ./.venv/lib/python3.12/site-packages (from ipython->vscode-colab) (0.19.2)\n",
      "Requirement already satisfied: matplotlib-inline in ./.venv/lib/python3.12/site-packages (from ipython->vscode-colab) (0.1.7)\n",
      "Requirement already satisfied: pexpect>4.3 in ./.venv/lib/python3.12/site-packages (from ipython->vscode-colab) (4.9.0)\n",
      "Requirement already satisfied: prompt_toolkit<3.1.0,>=3.0.41 in ./.venv/lib/python3.12/site-packages (from ipython->vscode-colab) (3.0.52)\n",
      "Requirement already satisfied: pygments>=2.4.0 in ./.venv/lib/python3.12/site-packages (from ipython->vscode-colab) (2.19.2)\n",
      "Requirement already satisfied: stack_data in ./.venv/lib/python3.12/site-packages (from ipython->vscode-colab) (0.6.3)\n",
      "Requirement already satisfied: traitlets>=5.13.0 in ./.venv/lib/python3.12/site-packages (from ipython->vscode-colab) (5.14.3)\n",
      "Requirement already satisfied: wcwidth in ./.venv/lib/python3.12/site-packages (from prompt_toolkit<3.1.0,>=3.0.41->ipython->vscode-colab) (0.2.14)\n",
      "Requirement already satisfied: parso<0.9.0,>=0.8.4 in ./.venv/lib/python3.12/site-packages (from jedi>=0.16->ipython->vscode-colab) (0.8.5)\n",
      "Requirement already satisfied: ptyprocess>=0.5 in ./.venv/lib/python3.12/site-packages (from pexpect>4.3->ipython->vscode-colab) (0.7.0)\n",
      "Requirement already satisfied: MarkupSafe>=2.0 in ./.venv/lib/python3.12/site-packages (from jinja2->vscode-colab) (3.0.3)\n",
      "Requirement already satisfied: charset_normalizer<4,>=2 in ./.venv/lib/python3.12/site-packages (from requests->vscode-colab) (3.4.4)\n",
      "Requirement already satisfied: idna<4,>=2.5 in ./.venv/lib/python3.12/site-packages (from requests->vscode-colab) (3.11)\n",
      "Requirement already satisfied: urllib3<3,>=1.21.1 in ./.venv/lib/python3.12/site-packages (from requests->vscode-colab) (2.5.0)\n",
      "Requirement already satisfied: certifi>=2017.4.17 in ./.venv/lib/python3.12/site-packages (from requests->vscode-colab) (2025.10.5)\n",
      "Requirement already satisfied: executing>=1.2.0 in ./.venv/lib/python3.12/site-packages (from stack_data->ipython->vscode-colab) (2.2.1)\n",
      "Requirement already satisfied: asttokens>=2.1.0 in ./.venv/lib/python3.12/site-packages (from stack_data->ipython->vscode-colab) (3.0.0)\n",
      "Requirement already satisfied: pure-eval in ./.venv/lib/python3.12/site-packages (from stack_data->ipython->vscode-colab) (0.2.3)\n",
      "Note: you may need to restart the kernel to use updated packages.\n"
     ]
    }
   ],
   "source": [
    "%pip install jupyter_http_over_ws\n",
    "%jupyter serverextension enable --py jupyter_http_over_ws"
   ]
  },
  {
   "cell_type": "code",
   "execution_count": null,
   "id": "d727d6f7",
   "metadata": {},
   "outputs": [],
   "source": [
    "!jupyter notebook \\\n",
    "  --no-browser \\\n",
    "  --allow-root \\\n",
    "  --port=8888 \\\n",
    "  --NotebookApp.token='' \\\n",
    "  --NotebookApp.password='' \\\n",
    "  --NotebookApp.disable_check_xsrf=True"
   ]
  },
  {
   "cell_type": "code",
   "execution_count": null,
   "id": "949e88da",
   "metadata": {},
   "outputs": [
    {
     "ename": "ImportError",
     "evalue": "cannot import name 'ColabTunnel' from 'vscode_colab' (/home/marc/DeepLearning/.venv/lib/python3.12/site-packages/vscode_colab/__init__.py)",
     "output_type": "error",
     "traceback": [
      "\u001b[31m---------------------------------------------------------------------------\u001b[39m",
      "\u001b[31mImportError\u001b[39m                               Traceback (most recent call last)",
      "\u001b[36mCell\u001b[39m\u001b[36m \u001b[39m\u001b[32mIn[4]\u001b[39m\u001b[32m, line 1\u001b[39m\n\u001b[32m----> \u001b[39m\u001b[32m1\u001b[39m \u001b[38;5;28;01mfrom\u001b[39;00m\u001b[38;5;250m \u001b[39m\u001b[34;01mvscode_colab\u001b[39;00m\u001b[38;5;250m \u001b[39m\u001b[38;5;28;01mimport\u001b[39;00m ColabTunnel\n\u001b[32m      2\u001b[39m ColabTunnel.connect()\n",
      "\u001b[31mImportError\u001b[39m: cannot import name 'ColabTunnel' from 'vscode_colab' (/home/marc/DeepLearning/.venv/lib/python3.12/site-packages/vscode_colab/__init__.py)"
     ]
    }
   ],
   "source": [
    "from google.colab.output import eval_js\n",
    "print(eval_js(\"google.colab.kernel.proxyPort(8888)\"))"
   ]
  }
 ],
 "metadata": {
  "kernelspec": {
   "display_name": ".venv",
   "language": "python",
   "name": "python3"
  },
  "language_info": {
   "codemirror_mode": {
    "name": "ipython",
    "version": 3
   },
   "file_extension": ".py",
   "mimetype": "text/x-python",
   "name": "python",
   "nbconvert_exporter": "python",
   "pygments_lexer": "ipython3",
   "version": "3.12.3"
  }
 },
 "nbformat": 4,
 "nbformat_minor": 5
}
