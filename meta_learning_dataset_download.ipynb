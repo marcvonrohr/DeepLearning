{
  "cells": [
    {
      "cell_type": "markdown",
      "metadata": {
        "id": "view-in-github",
        "colab_type": "text"
      },
      "source": [
        "<a href=\"https://colab.research.google.com/github/marcvonrohr/DeepLearning/blob/main/meta_learning_dataset_download.ipynb\" target=\"_parent\"><img src=\"https://colab.research.google.com/assets/colab-badge.svg\" alt=\"Open In Colab\"/></a>"
      ]
    },
    {
      "cell_type": "code",
      "execution_count": 4,
      "id": "54242527",
      "metadata": {
        "id": "54242527",
        "outputId": "53038d84-176c-4066-eea8-a83c0f3d4c16",
        "colab": {
          "base_uri": "https://localhost:8080/"
        }
      },
      "outputs": [
        {
          "output_type": "stream",
          "name": "stdout",
          "text": [
            "Connecting Google Drive...\n",
            "Mounted at /content/drive\n",
            "...Google Drive connected.\n",
            "Archive directory (storage): /content/drive/MyDrive/Deep Learning/datasets/inaturalist/archives\n",
            "Extracted directory (browsing): /content/drive/MyDrive/Deep Learning/datasets/inaturalist/extracted\n",
            "Temporary VM workspace created at: /content/data_temp\n"
          ]
        }
      ],
      "source": [
        "import os\n",
        "import time\n",
        "from google.colab import drive\n",
        "\n",
        "# --- 1. Mount Google Drive ---\n",
        "print(\"Connecting Google Drive...\")\n",
        "drive.mount('/content/drive')\n",
        "print(\"...Google Drive connected.\")\n",
        "\n",
        "# --- 2. Define All Google Drive Paths ---\n",
        "GDRIVE_ROOT = '/content/drive/MyDrive/'\n",
        "PROJECT_DIR = os.path.join(GDRIVE_ROOT, 'Deep Learning')\n",
        "DATASETS_ROOT_DIR = os.path.join(PROJECT_DIR, 'datasets')\n",
        "INAT_ROOT_DIR = os.path.join(DATASETS_ROOT_DIR, 'inaturalist')\n",
        "\n",
        "# Folder for the COMPRESSED .tar.gz files\n",
        "ARCHIVES_DIR = os.path.join(INAT_ROOT_DIR, 'archives')\n",
        "# Folder for the EXTRACTED browseable files\n",
        "EXTRACTED_DIR_ON_DRIVE = os.path.join(INAT_ROOT_DIR, 'extracted')\n",
        "\n",
        "# Create all necessary GDrive directories\n",
        "os.makedirs(ARCHIVES_DIR, exist_ok=True)\n",
        "os.makedirs(EXTRACTED_DIR_ON_DRIVE, exist_ok=True)\n",
        "\n",
        "print(f\"Archive directory (storage): {ARCHIVES_DIR}\")\n",
        "print(f\"Extracted directory (browsing): {EXTRACTED_DIR_ON_DRIVE}\")\n",
        "\n",
        "# --- 3. Define Local VM Paths (Temporary Workspace) ---\n",
        "LOCAL_DATA_ROOT = '/content/data_temp'\n",
        "LOCAL_TAR_FILE = os.path.join(LOCAL_DATA_ROOT, 'temp.tar.gz')\n",
        "LOCAL_UNPACK_DIR = os.path.join(LOCAL_DATA_ROOT, 'unpacked')\n",
        "\n",
        "# Create local VM directories\n",
        "os.makedirs(LOCAL_DATA_ROOT, exist_ok=True)\n",
        "os.makedirs(LOCAL_UNPACK_DIR, exist_ok=True)\n",
        "print(f\"Temporary VM workspace created at: {LOCAL_DATA_ROOT}\")"
      ]
    },
    {
      "cell_type": "code",
      "source": [
        "#################################################################\n",
        "#  PHASE 1: DOWNLOAD ARCHIVES TO GDRIVE\n",
        "#################################################################\n",
        "print(\"\\n--- PHASE 1: Downloading Archives to Google Drive ---\")\n",
        "\n",
        "# --- 1a. Define Download URLs and Target Paths ---\n",
        "urls = {\n",
        "    \"2021_train_mini\": \"https://ml-inat-competition-datasets.s3.amazonaws.com/2021/train_mini.tar.gz\",\n",
        "    \"2021_valid\": \"https://ml-inat-competition-datasets.s3.amazonaws.com/2021/val.tar.gz\"\n",
        "}\n",
        "\n",
        "files_to_download = {\n",
        "    \"2021_train_mini\": os.path.join(ARCHIVES_DIR, '2021_train_mini.tar.gz'),\n",
        "    \"2021_valid\": os.path.join(ARCHIVES_DIR, '2021_valid.tar.gz')\n",
        "}\n",
        "\n",
        "# --- 1b. Download Files using wget ---\n",
        "for name, path in files_to_download.items():\n",
        "    if not os.path.exists(path):\n",
        "        print(f\"\\nDownloading '{name}.tar.gz'...\")\n",
        "        print(f\"Source: {urls[name]}\")\n",
        "        print(f\"Destination: {path}\")\n",
        "        print(\"This may take a long time. Colab Pro session recommended.\")\n",
        "        !wget -O \"{path}\" \"{urls[name]}\"\n",
        "        print(f\"...Download '{name}' complete.\")\n",
        "    else:\n",
        "        print(f\"'{name}.tar.gz' already found at {path}. Skipping download.\")\n",
        "\n",
        "print(\"\\n--- PHASE 1 Complete: Archives are on Google Drive. ---\")\n",
        "!ls -lh \"$ARCHIVES_DIR\""
      ],
      "metadata": {
        "id": "idES9v790FMM",
        "colab": {
          "base_uri": "https://localhost:8080/"
        },
        "outputId": "2bb9c025-6ea5-4488-e09f-c380142bf846"
      },
      "id": "idES9v790FMM",
      "execution_count": 5,
      "outputs": [
        {
          "output_type": "stream",
          "name": "stdout",
          "text": [
            "\n",
            "--- PHASE 1: Downloading Archives to Google Drive ---\n",
            "\n",
            "Downloading '2021_train_mini.tar.gz'...\n",
            "Source: https://ml-inat-competition-datasets.s3.amazonaws.com/2021/train_mini.tar.gz\n",
            "Destination: /content/drive/MyDrive/Deep Learning/datasets/inaturalist/archives/2021_train_mini.tar.gz\n",
            "This may take a long time. Colab Pro session recommended.\n",
            "--2025-10-25 11:05:38--  https://ml-inat-competition-datasets.s3.amazonaws.com/2021/train_mini.tar.gz\n",
            "Resolving ml-inat-competition-datasets.s3.amazonaws.com (ml-inat-competition-datasets.s3.amazonaws.com)... 52.219.103.36, 52.219.109.60, 52.219.177.20, ...\n",
            "Connecting to ml-inat-competition-datasets.s3.amazonaws.com (ml-inat-competition-datasets.s3.amazonaws.com)|52.219.103.36|:443... connected.\n",
            "HTTP request sent, awaiting response... 200 OK\n",
            "Length: 44636137542 (42G) [application/gzip]\n",
            "Saving to: ‘/content/drive/MyDrive/Deep Learning/datasets/inaturalist/archives/2021_train_mini.tar.gz’\n",
            "\n",
            "/content/drive/MyDr 100%[===================>]  41.57G  46.3MB/s    in 31m 31s \n",
            "\n",
            "2025-10-25 11:37:10 (22.5 MB/s) - ‘/content/drive/MyDrive/Deep Learning/datasets/inaturalist/archives/2021_train_mini.tar.gz’ saved [44636137542/44636137542]\n",
            "\n",
            "...Download '2021_train_mini' complete.\n",
            "\n",
            "Downloading '2021_valid.tar.gz'...\n",
            "Source: https://ml-inat-competition-datasets.s3.amazonaws.com/2021/val.tar.gz\n",
            "Destination: /content/drive/MyDrive/Deep Learning/datasets/inaturalist/archives/2021_valid.tar.gz\n",
            "This may take a long time. Colab Pro session recommended.\n",
            "--2025-10-25 11:37:10--  https://ml-inat-competition-datasets.s3.amazonaws.com/2021/val.tar.gz\n",
            "Resolving ml-inat-competition-datasets.s3.amazonaws.com (ml-inat-competition-datasets.s3.amazonaws.com)... 3.5.129.235, 3.5.133.127, 3.5.131.194, ...\n",
            "Connecting to ml-inat-competition-datasets.s3.amazonaws.com (ml-inat-competition-datasets.s3.amazonaws.com)|3.5.129.235|:443... connected.\n",
            "HTTP request sent, awaiting response... 200 OK\n",
            "Length: 8931661582 (8.3G) [application/gzip]\n",
            "Saving to: ‘/content/drive/MyDrive/Deep Learning/datasets/inaturalist/archives/2021_valid.tar.gz’\n",
            "\n",
            "/content/drive/MyDr 100%[===================>]   8.32G  20.2MB/s    in 6m 2s   \n",
            "\n",
            "2025-10-25 11:43:12 (23.6 MB/s) - ‘/content/drive/MyDrive/Deep Learning/datasets/inaturalist/archives/2021_valid.tar.gz’ saved [8931661582/8931661582]\n",
            "\n",
            "...Download '2021_valid' complete.\n",
            "\n",
            "--- PHASE 1 Complete: Archives are on Google Drive. ---\n",
            "total 50G\n",
            "-rw------- 1 root root  42G Feb 25  2021 2021_train_mini.tar.gz\n",
            "-rw------- 1 root root 8.4G Feb 25  2021 2021_valid.tar.gz\n"
          ]
        }
      ]
    },
    {
      "cell_type": "code",
      "source": [
        "#################################################################\n",
        "#  PHASE 2: UNPACK ARCHIVES TO GDRIVE (using VM as temp)\n",
        "#################################################################\n",
        "print(\"\\n--- PHASE 2: Unpacking Archives to GDrive (for browsing) ---\")\n",
        "print(\"This phase uses the local VM for fast unpacking.\")\n",
        "\n",
        "# --- 2a. List of files to process ---\n",
        "files_to_process = {\n",
        "    \"2021_train_mini\": {\n",
        "        \"archive_path\": files_to_download[\"2021_train_mini\"],\n",
        "        \"final_check_path\": os.path.join(EXTRACTED_DIR_ON_DRIVE, '2021_train_mini')\n",
        "    },\n",
        "    \"2021_valid\": {\n",
        "        \"archive_path\": files_to_download[\"2021_valid\"],\n",
        "        \"final_check_path\": os.path.join(EXTRACTED_DIR_ON_DRIVE, '2021_valid')\n",
        "    }\n",
        "}\n",
        "\n",
        "# --- 2b. Process each file ---\n",
        "for name, paths in files_to_process.items():\n",
        "    print(f\"\\n--- Processing {name} ---\")\n",
        "\n",
        "    # Check if it's already done\n",
        "    if os.path.exists(paths[\"final_check_path\"]):\n",
        "        print(f\"'{name}' already exists in GDrive 'extracted' folder. Skipping.\")\n",
        "        continue\n",
        "\n",
        "    # Copy archive from GDrive to local VM (Fast)\n",
        "    print(f\"Copying '{name}.tar.gz' from Drive to local VM...\")\n",
        "    start_time = time.time()\n",
        "    !cp \"{paths['archive_path']}\" \"{LOCAL_TAR_FILE}\"\n",
        "    print(f\"...Copy complete. Took {time.time() - start_time:.2f}s.\")\n",
        "\n",
        "    # Unpack locally on VM (Fast)\n",
        "    print(f\"Unpacking '{name}' on local VM...\")\n",
        "    start_time = time.time()\n",
        "    !tar -xzf \"{LOCAL_TAR_FILE}\" -C \"{LOCAL_UNPACK_DIR}\"\n",
        "    print(f\"...Unpack complete. Took {time.time() - start_time:.2f}s.\")\n",
        "\n",
        "    # Identify the folder name (e.g., '2021_train_mini')\n",
        "    unpacked_folder_name = os.listdir(LOCAL_UNPACK_DIR)[0]\n",
        "    local_path_to_copy = os.path.join(LOCAL_UNPACK_DIR, unpacked_folder_name)\n",
        "\n",
        "    # Copy the *unpacked folder* from VM back to GDrive (Slow)\n",
        "    print(f\"Copying unpacked folder '{unpacked_folder_name}' from VM to GDrive...\")\n",
        "    print(\"WARNING: This will take MANY HOURS for 'train_mini'.\")\n",
        "    start_time = time.time()\n",
        "    !cp -r \"{local_path_to_copy}\" \"{EXTRACTED_DIR_ON_DRIVE}\"\n",
        "    print(f\"...Copy to GDrive complete. Took {time.time() - start_time:.2f}s.\")\n",
        "\n",
        "    # Clean up local VM\n",
        "    print(\"Cleaning up local VM workspace...\")\n",
        "    !rm \"{LOCAL_TAR_FILE}\"\n",
        "    !rm -r \"{local_path_to_copy}\"\n",
        "    print(\"...VM workspace clean.\")\n",
        "\n",
        "print(\"\\n--- PHASE 2 Complete: Setup script finished. ---\")\n",
        "print(f\"Contents of {EXTRACTED_DIR_ON_DRIVE} (for browsing):\")\n",
        "!ls -lh \"$EXTRACTED_DIR_ON_DRIVE\""
      ],
      "metadata": {
        "id": "HOuncWxy0HvZ",
        "colab": {
          "base_uri": "https://localhost:8080/"
        },
        "outputId": "8b9ddd07-dc1f-4f75-dd9f-1fb496e296ff"
      },
      "id": "HOuncWxy0HvZ",
      "execution_count": 6,
      "outputs": [
        {
          "output_type": "stream",
          "name": "stdout",
          "text": [
            "\n",
            "--- PHASE 2: Unpacking Archives to GDrive (for browsing) ---\n",
            "This phase uses the local VM for fast unpacking.\n",
            "\n",
            "--- Processing 2021_train_mini ---\n",
            "Copying '2021_train_mini.tar.gz' from Drive to local VM...\n",
            "...Copy complete. Took 416.10s.\n",
            "Unpacking '2021_train_mini' on local VM...\n",
            "...Unpack complete. Took 674.85s.\n",
            "Copying unpacked folder 'train_mini' from VM to GDrive...\n",
            "WARNING: This will take MANY HOURS for 'train_mini'.\n",
            "...Copy to GDrive complete. Took 6444.88s.\n",
            "Cleaning up local VM workspace...\n",
            "...VM workspace clean.\n",
            "\n",
            "--- Processing 2021_valid ---\n",
            "Copying '2021_valid.tar.gz' from Drive to local VM...\n",
            "...Copy complete. Took 174.03s.\n",
            "Unpacking '2021_valid' on local VM...\n",
            "...Unpack complete. Took 158.23s.\n",
            "Copying unpacked folder 'val' from VM to GDrive...\n",
            "WARNING: This will take MANY HOURS for 'train_mini'.\n",
            "...Copy to GDrive complete. Took 1431.32s.\n",
            "Cleaning up local VM workspace...\n",
            "...VM workspace clean.\n",
            "\n",
            "--- PHASE 2 Complete: Setup script finished. ---\n",
            "Contents of /content/drive/MyDrive/Deep Learning/datasets/inaturalist/extracted (for browsing):\n",
            "total 8.0K\n",
            "drwx------ 10002 root root 4.0K Oct 25 13:48 train_mini\n",
            "drwx------ 10002 root root 4.0K Oct 25 14:18 val\n"
          ]
        }
      ]
    }
  ],
  "metadata": {
    "kernelspec": {
      "display_name": "Python 3",
      "name": "python3"
    },
    "language_info": {
      "codemirror_mode": {
        "name": "ipython",
        "version": 3
      },
      "file_extension": ".py",
      "mimetype": "text/x-python",
      "name": "python",
      "nbconvert_exporter": "python",
      "pygments_lexer": "ipython3",
      "version": "3.12.3"
    },
    "colab": {
      "provenance": [],
      "include_colab_link": true
    }
  },
  "nbformat": 4,
  "nbformat_minor": 5
}