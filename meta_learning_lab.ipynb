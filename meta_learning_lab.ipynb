{
  "cells": [
    {
      "cell_type": "markdown",
      "metadata": {
        "id": "tn47oJRxv8E1"
      },
      "source": [
        "<img align=\"center\" style='max-width: 1000px' src=\"https://github.com/HSG-AIML-Teaching/DL2025-Lab/blob/main/lab_1/images/banner.png?raw=1\">"
      ]
    },
    {
      "cell_type": "markdown",
      "metadata": {
        "id": "vUwnBewWv8E5"
      },
      "source": [
        "<img align=\"left\" style='max-width: 150px; height: auto' src=\"https://github.com/HSG-AIML-Teaching/DL2025-Lab/blob/main/lab_1/images/hsg_logo.png?raw=1\">"
      ]
    },
    {
      "cell_type": "markdown",
      "metadata": {
        "id": "HpdGhqDEv8E6"
      },
      "source": [
        "# Lab 01 - \"Meta-Learning\"\n"
      ]
    },
    {
      "cell_type": "markdown",
      "metadata": {
        "id": "JQq3ouFYv8E7"
      },
      "source": [
        "## Objective\n",
        "\n",
        "After this tutorial, you should be able to meta-train a model to learn an intialization that can be used to quickly adapt to novel tasks from a family of tasks.\n",
        "\n",
        "**We will compare to different approaches:**\n",
        "\n",
        "    - Supervised pre-training: pretrain a model on a family of tasks in a supervsied manner.\n",
        "    - MAML: meta-train a model a model on a family of task using the MAML method.\n",
        ""
      ]
    },
    {
      "cell_type": "markdown",
      "metadata": {
        "id": "Mzz0qB7dyo42"
      },
      "source": [
        "## Outline\n",
        "\n",
        "1. **Tensor Operations in PyTorch**: Under the hood of tensor operations in PyTorch.\n",
        "2. **Stateful vs. Stateless Models**: How to execute models in stateful or stateless ways.\n",
        "3. **Task Distribution**: Sine waves task distribution.\n",
        "4. **Model Architecture**: Model architecture definition.\n",
        "5. **Supervised Pre-training**: Pretaining in a supervised manner.\n",
        "6. **MAML**: Meta-training with MAML.\n",
        "7. **Model Adaptation**: Testing both approaches.\n"
      ]
    },
    {
      "cell_type": "markdown",
      "metadata": {
        "id": "sgPy-svJv8E9"
      },
      "source": [
        "### Install Required Packages"
      ]
    },
    {
      "cell_type": "code",
      "execution_count": 1,
      "metadata": {
        "id": "NtFSh4Nog78N"
      },
      "outputs": [],
      "source": [
        "# !pip install 'torch>=1.2*'"
      ]
    },
    {
      "cell_type": "code",
      "execution_count": 2,
      "metadata": {
        "id": "PztAai3Tv8FA"
      },
      "outputs": [],
      "source": [
        "import tqdm\n",
        "import matplotlib.pyplot as plt\n",
        "import numpy as np\n",
        "from copy import deepcopy\n",
        "\n",
        "import torch\n",
        "import torch.nn as nn"
      ]
    },
    {
      "cell_type": "markdown",
      "metadata": {
        "id": "bf6VyckEg7XK",
        "tags": []
      },
      "source": [
        "## <font color='red'>1. Tensor Operations in PyTorch</font>\n",
        "\n",
        "In this part, we will see:\n",
        "- How does the computational graph of a model work in the background in PyTorch?\n",
        "- What happens when we call `.backward()` on a (scalar) tensor?\n"
      ]
    },
    {
      "cell_type": "markdown",
      "metadata": {
        "id": "KnV-qk0Wjug1"
      },
      "source": [
        "### 1.1 Computational Graphs\n",
        "\n",
        "PyTorch creates computational graphs **dynamically** on the fly.\n"
      ]
    },
    {
      "cell_type": "markdown",
      "metadata": {
        "id": "eTyq0BVcv8FC"
      },
      "source": [
        "$(x_1 \\times x_2)' = x_1' \\times x_2 + x_1\\times x_2'$ <br>"
      ]
    },
    {
      "cell_type": "markdown",
      "metadata": {
        "id": "MgNnztZ2v8FC"
      },
      "source": [
        "After running the following tensor operations, PyTorch dynamically creates a computational graph in the background:"
      ]
    },
    {
      "cell_type": "code",
      "execution_count": 3,
      "metadata": {
        "id": "YMMtLipUg2O_"
      },
      "outputs": [],
      "source": [
        "# Create random tensors x1 and x2\n",
        "x1 = torch.rand(1, 5, requires_grad=True)\n",
        "x2 = torch.rand(1, 5, requires_grad=True)\n",
        "\n",
        "a = x1 * x2\n",
        "\n",
        "y1 = torch.log(a)\n",
        "y2 = torch.sin(x2)\n",
        "\n",
        "w = y1 * y2\n",
        "\n",
        "L = torch.sum(w)"
      ]
    },
    {
      "cell_type": "markdown",
      "metadata": {
        "id": "zbpkaUfav8FD"
      },
      "source": [
        "<img align=\"center\" width=\"700\" src=\"https://github.com/HSG-AIML-Teaching/DL2025-Lab/blob/main/lab_1/images/computational_graph_single.png?raw=1\">"
      ]
    },
    {
      "cell_type": "markdown",
      "metadata": {
        "id": "IvtU1Wcpv8FE"
      },
      "source": [
        "As we can see, the `requires_grad` option for two tensor is set to `True` for tensor `x1` and `x2`. By doing so, after calling `backward()`, gradient values for those two tensors are calculated. Before calling `.backward()` on `L`, the gradient values for those two tensors are `Null`:\n"
      ]
    },
    {
      "cell_type": "code",
      "execution_count": 4,
      "metadata": {
        "id": "MaKd3YEGv8FE",
        "outputId": "f35cd65b-186c-4f69-9eb7-9810db44b3a2",
        "colab": {
          "base_uri": "https://localhost:8080/"
        }
      },
      "outputs": [
        {
          "output_type": "stream",
          "name": "stdout",
          "text": [
            "None\n",
            "None\n"
          ]
        }
      ],
      "source": [
        "# Initially the gradients of x1 and x2 are None\n",
        "print(x1.grad)\n",
        "print(x2.grad)"
      ]
    },
    {
      "cell_type": "markdown",
      "metadata": {
        "id": "zqxzRLb4v8FF"
      },
      "source": [
        "Now, the more important question is: what happens under the hood, when we call `.backward()` on the loss tensor `L`?"
      ]
    },
    {
      "cell_type": "markdown",
      "metadata": {
        "id": "Kp3A60pCv8FF"
      },
      "source": [
        "The visualization below shows that after calling the backpropagation function PyTorch creates another graph for the computation of the gradients. The green graph is called \"Gradient Graph\" of the model which is automatically constructued by calling `L.backward()`:"
      ]
    },
    {
      "cell_type": "markdown",
      "metadata": {
        "id": "bhxzjUXpv8FF"
      },
      "source": [
        "\n",
        "<img align='center' style='max-width: 700px' src='https://github.com/HSG-AIML-Teaching/DL2025-Lab/blob/main/lab_1/images/computational_graph.gif?raw=1'>"
      ]
    },
    {
      "cell_type": "markdown",
      "metadata": {
        "id": "uRsIvCHnv8FG"
      },
      "source": [
        "Let's call backward on `L` now:"
      ]
    },
    {
      "cell_type": "code",
      "execution_count": 5,
      "metadata": {
        "id": "Gl3DrN4Gv8FG"
      },
      "outputs": [],
      "source": [
        "L.backward()"
      ]
    },
    {
      "cell_type": "markdown",
      "metadata": {
        "id": "eUHTvZEHv8FG"
      },
      "source": [
        "After calling backward, we should be able to access the gradients of the tensors with `requires_grad=True`:"
      ]
    },
    {
      "cell_type": "code",
      "execution_count": 6,
      "metadata": {
        "id": "85aN1b3Yv8FH",
        "outputId": "09d8d3a4-f146-4d23-f132-8faba8774730",
        "colab": {
          "base_uri": "https://localhost:8080/"
        }
      },
      "outputs": [
        {
          "output_type": "stream",
          "name": "stdout",
          "text": [
            "tensor([[0.6687, 0.0726, 0.7080, 0.9013, 0.5430]])\n",
            "tensor([[ 0.6335, -2.4879,  0.6536,  0.6346,  0.3145]])\n"
          ]
        }
      ],
      "source": [
        "# Print the gradients of x1 and x2\n",
        "print(x1.grad)\n",
        "print(x2.grad)"
      ]
    },
    {
      "cell_type": "markdown",
      "metadata": {
        "id": "bhUCNlzVv8FH"
      },
      "source": [
        "A second back-propagation through the model is not possible because after calling `backward()` the computational graph is freed. </br>\n",
        "Soltion: set `retain_graph=True` once calling `.backward(...)` </br>\n",
        "Every time we call backward, the gradients are accumulated.\n"
      ]
    },
    {
      "cell_type": "code",
      "execution_count": 7,
      "metadata": {
        "id": "po8N1Bn_wbOw"
      },
      "outputs": [],
      "source": [
        "# L.backward()"
      ]
    },
    {
      "cell_type": "markdown",
      "metadata": {
        "id": "4ZzWWeviv8FH"
      },
      "source": [
        "### 1.2 Computing gradients for particular variables directly without `.backward()`"
      ]
    },
    {
      "cell_type": "code",
      "execution_count": 8,
      "metadata": {
        "id": "85k4y9JXv8FI"
      },
      "outputs": [],
      "source": [
        "# Given the same operations\n",
        "\n",
        "x1 = torch.rand(1, 5, requires_grad=True)\n",
        "x2 = torch.rand(1, 5, requires_grad=True)\n",
        "\n",
        "a = x1 * x2\n",
        "\n",
        "y1 = torch.log(a)\n",
        "y2 = torch.sin(x2)\n",
        "\n",
        "w = y1 * y2\n",
        "\n",
        "L = torch.sum(w)\n"
      ]
    },
    {
      "cell_type": "markdown",
      "metadata": {
        "id": "fa3ImzdAv8FI"
      },
      "source": [
        "Now, we only want to compute $\\frac{\\partial L}{\\partial x_1}$ :<br>\n",
        "We use `torch.autograd.grad` to compute the gradients of a term w.r.t. a given set of variables. <br>\n",
        "Unlike `.backward()`, it does not assign gradients to the graph nodes automatically."
      ]
    },
    {
      "cell_type": "code",
      "execution_count": 9,
      "metadata": {
        "id": "g0BhjGgSv8FJ",
        "outputId": "7607061a-c68b-41b3-db58-5007da7e26d6",
        "colab": {
          "base_uri": "https://localhost:8080/"
        }
      },
      "outputs": [
        {
          "output_type": "stream",
          "name": "stdout",
          "text": [
            "(tensor([[1.9148, 4.0767, 3.7261, 0.6479, 3.0211]]),)\n"
          ]
        }
      ],
      "source": [
        "# Compute gradient of L w.r.t. x1\n",
        "g_x1 = torch.autograd.grad(L, x1, retain_graph=True)  # we keep the graph of the model to use it later\n",
        "\n",
        "print(g_x1)"
      ]
    },
    {
      "cell_type": "code",
      "execution_count": 10,
      "metadata": {
        "id": "PpkBXIDDv8FJ",
        "outputId": "bb698788-83f8-45f3-f317-789f7572dafd",
        "colab": {
          "base_uri": "https://localhost:8080/"
        }
      },
      "outputs": [
        {
          "output_type": "stream",
          "name": "stdout",
          "text": [
            "None\n"
          ]
        }
      ],
      "source": [
        "print(x1.grad)"
      ]
    },
    {
      "cell_type": "code",
      "execution_count": 11,
      "metadata": {
        "id": "DkNlsilrv8FK",
        "outputId": "289c906e-d21f-4a26-c1c5-d0a89af3a337",
        "colab": {
          "base_uri": "https://localhost:8080/"
        }
      },
      "outputs": [
        {
          "output_type": "stream",
          "name": "stdout",
          "text": [
            "(tensor([[ 0.2873, -0.0468, -1.0700, -1.1265, -0.7122]]),)\n"
          ]
        }
      ],
      "source": [
        "# Now we compute the gradient of the model for later use\n",
        "g_x2 = torch.autograd.grad(L, x2, retain_graph=True)  # we keep the graph of the model to use it later\n",
        "\n",
        "print(g_x2)"
      ]
    },
    {
      "cell_type": "markdown",
      "metadata": {
        "id": "es8q6QHSv8FK"
      },
      "source": [
        "More about PyTorch's `autograd`:\n",
        "\n",
        "https://pytorch.org/tutorials/beginner/basics/autogradqs_tutorial.html\n",
        "\n",
        "https://pytorch.org/blog/computational-graphs-constructed-in-pytorch/"
      ]
    },
    {
      "cell_type": "markdown",
      "metadata": {
        "id": "5fqLwE-Fv8FL"
      },
      "source": [
        "## <font color='red'>2. Stateful vs. Stateless Models</font>"
      ]
    },
    {
      "cell_type": "markdown",
      "metadata": {
        "id": "9bqlSTGVv8FL"
      },
      "source": [
        "### 2.1 Stateful Models\n",
        "In stateful models, the model's weights are defined inside the model's class:"
      ]
    },
    {
      "cell_type": "code",
      "execution_count": 12,
      "metadata": {
        "id": "BJJdZ1AUoJCJ"
      },
      "outputs": [],
      "source": [
        "class StatefulMLP(nn.Module):\n",
        "    def __init__(self):\n",
        "        super().__init__()\n",
        "\n",
        "        # Model layers\n",
        "        self.linear1 = nn.Linear(10, 5)\n",
        "        self.linear2 = nn.Linear(5, 1)\n",
        "        self.relu = nn.ReLU(inplace=True)\n",
        "\n",
        "    def forward(self, x):\n",
        "        # Forward steps\n",
        "        x = self.linear1(x)\n",
        "        x = self.relu(x)\n",
        "        x = self.linear2(x)\n",
        "\n",
        "        return x"
      ]
    },
    {
      "cell_type": "markdown",
      "metadata": {
        "id": "21xbr_JLv8FM"
      },
      "source": [
        "By creating and instance of the model we can just feed an input to it and get the out:"
      ]
    },
    {
      "cell_type": "code",
      "execution_count": 13,
      "metadata": {
        "colab": {
          "base_uri": "https://localhost:8080/"
        },
        "id": "VfcvSxTlv2C8",
        "outputId": "cbb81220-8c9b-4182-a38b-ed6ec6a2a6ab"
      },
      "outputs": [
        {
          "output_type": "stream",
          "name": "stdout",
          "text": [
            "tensor([[-0.0586],\n",
            "        [-0.0859],\n",
            "        [-0.1761],\n",
            "        [-0.0880],\n",
            "        [-0.1023],\n",
            "        [-0.2696],\n",
            "        [-0.1157],\n",
            "        [-0.1269]], grad_fn=<AddmmBackward0>)\n"
          ]
        }
      ],
      "source": [
        "# Create and instance of the model\n",
        "model_stateful = StatefulMLP()\n",
        "\n",
        "# Create random tensor\n",
        "x = torch.randn(8, 10)\n",
        "\n",
        "# Make perdiction with the model using only x\n",
        "out = model_stateful(x)\n",
        "\n",
        "print(out)"
      ]
    },
    {
      "cell_type": "markdown",
      "metadata": {
        "id": "2UKZWVTYvyTY"
      },
      "source": [
        "### 2.2 Stateless Models\n"
      ]
    },
    {
      "cell_type": "markdown",
      "metadata": {
        "id": "_LTdAgBqv8FN"
      },
      "source": [
        "Stateful models are ideal for most use cases, however, we may need stateless execution for some cases, for example:\n",
        "\n",
        "- When the weights of the model are generated by another networks (Hyper-Networks)\n",
        "- When we want to backpropagate through an optimization trajectory"
      ]
    },
    {
      "cell_type": "markdown",
      "metadata": {
        "id": "MECHha-SQEeW"
      },
      "source": [
        "<img align=\"center\" width=\"900\" src=\"https://github.com/HSG-AIML-Teaching/DL2025-Lab/blob/main/lab_1/images/stateless_applications.png?raw=1\">\n"
      ]
    },
    {
      "cell_type": "markdown",
      "metadata": {
        "id": "fr49z5FXv8FT"
      },
      "source": [
        "In stateless model defnitions, the model's weights are not stored inside the model. Instead, they are provided through the forward function."
      ]
    },
    {
      "cell_type": "markdown",
      "metadata": {
        "id": "4b-bNl9Mv8FU"
      },
      "source": [
        "The forward function of the model needs to handle operations directly:"
      ]
    },
    {
      "cell_type": "code",
      "execution_count": 14,
      "metadata": {
        "id": "KT-kY90EvufX"
      },
      "outputs": [],
      "source": [
        "import torch.nn.functional as F\n",
        "\n",
        "class StatelessMLP(nn.Module):\n",
        "    def __init__(self):\n",
        "        super().__init__()\n",
        "\n",
        "    def forward(self, x, params):\n",
        "        # The forward function is defined in a different way\n",
        "        # The model weights (parmeters) are given as an input to the forward function\n",
        "        # We assume the model weights are given as a dictionary\n",
        "        # Now we use PyTorch functionals to execute the graph operations\n",
        "        x = F.linear(x, params[\"w1\"])\n",
        "        x = F.relu(x)\n",
        "        x = F.linear(x, params[\"w2\"])\n",
        "\n",
        "        return x"
      ]
    },
    {
      "cell_type": "markdown",
      "metadata": {
        "id": "5Iv6qZFiv8FU"
      },
      "source": [
        "PyTorch functionals: https://pytorch.org/docs/stable/nn.functional.html\n"
      ]
    },
    {
      "cell_type": "markdown",
      "metadata": {
        "id": "Tzdkvoydv8FV"
      },
      "source": [
        "How do functionals works? </br>\n",
        "Example:\n",
        "we can use `torch.nn.functional.linear` to apply a linear transformation, i.e: $x.w^T$"
      ]
    },
    {
      "cell_type": "code",
      "execution_count": 15,
      "metadata": {
        "colab": {
          "base_uri": "https://localhost:8080/"
        },
        "id": "iElhOBTJ1RWZ",
        "outputId": "9dc7c0b4-785e-46ed-8b2e-a90f1d6d715f"
      },
      "outputs": [
        {
          "output_type": "stream",
          "name": "stdout",
          "text": [
            "Output shape is:  torch.Size([8, 5])\n"
          ]
        }
      ],
      "source": [
        "# Input: 8 x 10\n",
        "# Transformation: 10 x 5\n",
        "# Output: 8 x 5\n",
        "\n",
        "# Input\n",
        "x = torch.randn(8, 10)\n",
        "\n",
        "# Weights\n",
        "w = torch.ones(5, 10)\n",
        "\n",
        "# Functional\n",
        "out = F.linear(x, w)\n",
        "print(\"Output shape is: \", out.shape)"
      ]
    },
    {
      "cell_type": "markdown",
      "metadata": {
        "id": "g0ACOvMxv8FV"
      },
      "source": [
        "How to use a statelss model defintion?\n"
      ]
    },
    {
      "cell_type": "code",
      "execution_count": 16,
      "metadata": {
        "colab": {
          "base_uri": "https://localhost:8080/"
        },
        "id": "n2_9yX39wNuS",
        "outputId": "b1837136-e3a2-4e6b-95a7-856ca2d46f57"
      },
      "outputs": [
        {
          "output_type": "stream",
          "name": "stdout",
          "text": [
            "torch.Size([8, 1])\n"
          ]
        }
      ],
      "source": [
        "# Define model\n",
        "model_stateless  = StatelessMLP()\n",
        "\n",
        "# Model input\n",
        "x = torch.randn(8, 10)\n",
        "\n",
        "# Model parameters (weights)\n",
        "params = {\n",
        "    \"w1\": torch.randn(5, 10),\n",
        "    \"w2\": torch.randn(1, 5)\n",
        "}\n",
        "\n",
        "# Make prediction\n",
        "out = model_stateless(x, params)\n",
        "\n",
        "print(out.shape)"
      ]
    },
    {
      "cell_type": "markdown",
      "metadata": {
        "id": "412x7zVHv8FW"
      },
      "source": [
        "### 2.3  The Easier Way for Stateless Model Execution\n",
        "\n",
        "- Defining model operations manually can be cumbersome for large models\n",
        "- Given a regular pytorch model, we want to define a stateless model without re-defining the forwrad function"
      ]
    },
    {
      "cell_type": "markdown",
      "metadata": {
        "id": "XbMVcJbzv8FW"
      },
      "source": [
        "In PyTorch `1.12`, a new function was added for this purpose"
      ]
    },
    {
      "cell_type": "code",
      "execution_count": 17,
      "metadata": {
        "id": "rIsPydFev8FW"
      },
      "outputs": [],
      "source": [
        "from torch.nn.utils.stateless import functional_call"
      ]
    },
    {
      "cell_type": "code",
      "execution_count": 18,
      "metadata": {
        "id": "x_TUy2i1v8FX",
        "outputId": "494c8cd3-930f-4a9a-e444-3719ab876a67",
        "colab": {
          "base_uri": "https://localhost:8080/"
        }
      },
      "outputs": [
        {
          "output_type": "stream",
          "name": "stdout",
          "text": [
            "dict_keys(['linear1.weight', 'linear1.bias', 'linear2.weight', 'linear2.bias'])\n",
            "torch.Size([8, 1])\n"
          ]
        },
        {
          "output_type": "stream",
          "name": "stderr",
          "text": [
            "/tmp/ipython-input-1985219820.py:13: FutureWarning: `torch.nn.utils.stateless.functional_call` is deprecated as of PyTorch 2.0 and will be removed in a future version of PyTorch. Please use `torch.func.functional_call` instead which is a drop-in replacement.\n",
            "  pred = functional_call(model1, params, x)\n"
          ]
        }
      ],
      "source": [
        "# Using the previously defined StatefulMLP\n",
        "model1 = StatefulMLP()\n",
        "model2 = StatefulMLP()\n",
        "\n",
        "# create random tensor\n",
        "x = torch.randn(8, 10)\n",
        "\n",
        "# Use the weights of model2 to make prediction\n",
        "params = dict(model2.named_parameters())\n",
        "print(params.keys())\n",
        "\n",
        "# Make prediction in a stateless way\n",
        "pred = functional_call(model1, params, x)\n",
        "print(pred.shape)\n"
      ]
    },
    {
      "cell_type": "markdown",
      "metadata": {
        "id": "hIy1c45Qv8FX"
      },
      "source": [
        "### 2.4 Manually Assigning Gradients to a Model\n",
        "\n",
        "When we call `loss.backward()`, PyTorch automatically computes gradients and assigns them to the model's parameters. </br>\n",
        "However, when the gradients are calculated via `torch.autograd.grad()`, we need to assign them manually."
      ]
    },
    {
      "cell_type": "code",
      "execution_count": 19,
      "metadata": {
        "id": "S33H1XFjv8FY"
      },
      "outputs": [],
      "source": [
        "# Using the previously defined StatefulMLP\n",
        "model = StatefulMLP()\n",
        "\n",
        "# Zero all gradients\n",
        "model.zero_grad()\n",
        "\n",
        "# create random tensor\n",
        "x = torch.randn(8, 10)\n",
        "\n",
        "# Forward propagation\n",
        "pred = model(x)\n",
        "\n",
        "# Compute loss and gradients\n",
        "loss = torch.mean(pred)\n",
        "grads = torch.autograd.grad(loss, model.parameters())"
      ]
    },
    {
      "cell_type": "code",
      "execution_count": 20,
      "metadata": {
        "id": "80xa9pktv8FY",
        "outputId": "c682f40b-3f1e-44ad-e459-3599ec3a7b4c",
        "colab": {
          "base_uri": "https://localhost:8080/"
        }
      },
      "outputs": [
        {
          "output_type": "stream",
          "name": "stdout",
          "text": [
            "Gradients before assignment\n",
            "None\n",
            "None\n",
            "None\n",
            "None\n",
            "\n",
            "Gradients after assignment\n",
            "tensor([[ 1.8837e-02,  8.8740e-03,  3.9290e-02, -2.2243e-02, -3.5776e-03,\n",
            "          4.7311e-03,  1.2356e-03,  1.7005e-02, -1.7955e-02, -6.7602e-03],\n",
            "        [ 8.1207e-03,  5.2029e-02,  1.2321e-01, -2.4656e-02, -2.0754e-02,\n",
            "         -1.2308e-04,  2.1348e-02,  8.6264e-02,  1.7208e-02,  4.4082e-02],\n",
            "        [-2.0130e-03, -2.9438e-02, -4.8263e-02, -9.0411e-03,  3.0484e-02,\n",
            "         -5.2103e-03, -2.4990e-03, -3.0690e-02, -3.2650e-02, -2.6292e-02],\n",
            "        [ 3.1895e-02, -3.9643e-02,  5.1029e-02, -7.6313e-02, -2.5387e-02,\n",
            "          2.4190e-02, -5.2164e-02, -1.2570e-02, -5.9181e-02, -1.1074e-01],\n",
            "        [ 0.0000e+00,  0.0000e+00,  0.0000e+00,  0.0000e+00,  0.0000e+00,\n",
            "          0.0000e+00,  0.0000e+00,  0.0000e+00,  0.0000e+00,  0.0000e+00]])\n",
            "tensor([ 0.0213,  0.1134, -0.0732, -0.0450,  0.0000])\n",
            "tensor([[0.1182, 0.3072, 0.3165, 0.1805, 0.0000]])\n",
            "tensor([1.])\n"
          ]
        }
      ],
      "source": [
        "print(\"Gradients before assignment\")\n",
        "for p in model.parameters():\n",
        "    print(p.grad)\n",
        "\n",
        "# Assign the gradients to the model's parameters\n",
        "for (p, g) in zip(model.parameters(), grads):\n",
        "    p.grad = g\n",
        "\n",
        "\n",
        "print(\"\\nGradients after assignment\")\n",
        "for p in model.parameters():\n",
        "    print(p.grad)\n",
        ""
      ]
    },
    {
      "cell_type": "markdown",
      "metadata": {
        "id": "7YtyMjGYv8FZ"
      },
      "source": [
        "Now, we are familiar with all tools and techniques to implement and train a meta-model :)"
      ]
    },
    {
      "cell_type": "markdown",
      "metadata": {
        "id": "Yuq408T9iqgb"
      },
      "source": [
        "## <font color='red'>3. Task Distribution</font>\n",
        "\n",
        "In this tutorial we want to learn an initialization from a distribution of sine waves. Therefore, we first need implement the task distribution class from which we can sample tasks.\n"
      ]
    },
    {
      "cell_type": "markdown",
      "metadata": {
        "id": "6VLydlHyv8Fa"
      },
      "source": [
        "Each task in this distribution is a regression problem with an underyling sine function. The sine function can change by setting it phase and amplitude: $y = amplitude \\times \\sin(phase + x)$\n",
        "\n",
        "<img align=\"center\" width=\"500\" src=\"https://github.com/HSG-AIML-Teaching/DL2025-Lab/blob/main/lab_1/images/example_sine_wave.png?raw=1\">\n"
      ]
    },
    {
      "cell_type": "markdown",
      "metadata": {
        "id": "2GkhxPlVv8Fb"
      },
      "source": [
        "### 3.1 Sine Waves Task Distribution: Class Definition"
      ]
    },
    {
      "cell_type": "markdown",
      "metadata": {
        "id": "NOaoseRhv8Fb"
      },
      "source": [
        "First, we define a class that generates random Sine Wave regression tasks:\n"
      ]
    },
    {
      "cell_type": "code",
      "execution_count": 21,
      "metadata": {
        "id": "YnOicfuyTP2m"
      },
      "outputs": [],
      "source": [
        "# Code adapted from https://github.com/vmikulik/maml-pytorch\n",
        "\n",
        "class SineTask():\n",
        "    \"\"\"\n",
        "    A sine wave data distribution object with interfaces designed for MAML.\n",
        "    \"\"\"\n",
        "\n",
        "    def __init__(self, amplitude, phase, xmin, xmax):\n",
        "        self.amplitude = amplitude\n",
        "        self.phase = phase\n",
        "        self.xmin = xmin\n",
        "        self.xmax = xmax\n",
        "\n",
        "    def true_function(self, x):\n",
        "        \"\"\"\n",
        "        Compute the true function on the given x.\n",
        "        \"\"\"\n",
        "\n",
        "        return self.amplitude * np.sin(self.phase + x)\n",
        "\n",
        "    def sample_data(self, size=1):\n",
        "        \"\"\"\n",
        "        Sample data from this task.\n",
        "\n",
        "        returns:\n",
        "            x: the feature vector of length size\n",
        "            y: the target vector of length size\n",
        "        \"\"\"\n",
        "\n",
        "        x = np.random.uniform(self.xmin, self.xmax, size)\n",
        "        y = self.true_function(x)\n",
        "\n",
        "        x = torch.tensor(x, dtype=torch.float).unsqueeze(1)\n",
        "        y = torch.tensor(y, dtype=torch.float).unsqueeze(1)\n",
        "\n",
        "        return x, y\n",
        "\n",
        "class SineTaskDistribution():\n",
        "    \"\"\"\n",
        "    The task distribution for sine regression tasks for MAML\n",
        "    \"\"\"\n",
        "\n",
        "    def __init__(self, amplitude_min, amplitude_max, phase_min, phase_max, x_min, x_max):\n",
        "        self.amplitude_min = amplitude_min\n",
        "        self.amplitude_max = amplitude_max\n",
        "        self.phase_min = phase_min\n",
        "        self.phase_max = phase_max\n",
        "        self.x_min = x_min\n",
        "        self.x_max = x_max\n",
        "\n",
        "    def sample_task(self):\n",
        "        \"\"\"\n",
        "        Sample from the task distribution.\n",
        "\n",
        "        returns:\n",
        "            Sine_Task object\n",
        "        \"\"\"\n",
        "        amplitude = np.random.uniform(self.amplitude_min, self.amplitude_max)\n",
        "        phase = np.random.uniform(self.phase_min, self.phase_max)\n",
        "        return SineTask(amplitude, phase, self.x_min, self.x_max)\n",
        "\n",
        "def plot_task(task, linestyle=\"solid\", color=\"blue\"):\n",
        "    \"\"\" Plots the ground-truth sine function with its\n",
        "    sampled datapoints.\n",
        "    \"\"\"\n",
        "    # Plot ground-truth sine function\n",
        "    gt_x = np.linspace(task.xmin, task.xmax, 1000)\n",
        "    gt_y = task.amplitude * np.sin(gt_x + task.phase)\n",
        "    plt.plot(gt_x, gt_y, c='black', linestyle=linestyle)\n",
        "    plt.ylim([-5, 5])\n",
        "\n",
        "    # Plot randomly sampled datapoints\n",
        "    x, y = task.sample_data(10)\n",
        "    plt.scatter(x.numpy().reshape(-1), y.numpy().reshape(-1), c=color)"
      ]
    },
    {
      "cell_type": "markdown",
      "metadata": {
        "id": "m7Aqkzy2v8Fc"
      },
      "source": [
        "### 3.1 Visualizing Randomly Sampled Tasks"
      ]
    },
    {
      "cell_type": "markdown",
      "metadata": {
        "id": "RS2H_kTYv8Fc"
      },
      "source": [
        "Now, we initialize the `SineTaskDistribution` with predefined parameter ranges. For example we set the range of possible amplitude to [0.1, 5.0], and the range of possible phases to [0.0, $\\pi$]."
      ]
    },
    {
      "cell_type": "code",
      "execution_count": 22,
      "metadata": {
        "id": "GcrKh7XzT3CF"
      },
      "outputs": [],
      "source": [
        "# Define task distribution for the given parameters\n",
        "task_dist = SineTaskDistribution(\n",
        "    amplitude_min=0.1,\n",
        "    amplitude_max=5,\n",
        "    phase_min=0,\n",
        "    phase_max=np.pi,\n",
        "    x_min=-5,\n",
        "    x_max=5\n",
        ")"
      ]
    },
    {
      "cell_type": "markdown",
      "metadata": {
        "id": "7Zvn4r10v8Fd"
      },
      "source": [
        "Now, let's generate some random tasks and plot them:"
      ]
    },
    {
      "cell_type": "code",
      "execution_count": 23,
      "metadata": {
        "colab": {
          "base_uri": "https://localhost:8080/",
          "height": 430
        },
        "id": "1M2jBxWCUXuy",
        "outputId": "44afc782-7b4e-4da5-8864-43d028f0d776"
      },
      "outputs": [
        {
          "output_type": "display_data",
          "data": {
            "text/plain": [
              "<Figure size 640x480 with 1 Axes>"
            ],
            "image/png": "[encoded data removed]"
          },
          "metadata": {}
        }
      ],
      "source": [
        "\n",
        "# Sample a random task and plot it\n",
        "task = task_dist.sample_task()\n",
        "plot_task(task, linestyle=\"solid\", color=\"blue\")\n",
        "\n",
        "# Another random task\n",
        "task = task_dist.sample_task()\n",
        "plot_task(task, linestyle=\"dashed\", color=\"green\")\n",
        "\n",
        "# Another random task\n",
        "task = task_dist.sample_task()\n",
        "plot_task(task, linestyle=\"dotted\", color=\"red\")\n"
      ]
    },
    {
      "cell_type": "markdown",
      "metadata": {
        "id": "oHZnfwRiv8Fe"
      },
      "source": [
        "## <font color='red'>4. Model Architecture</font>"
      ]
    },
    {
      "cell_type": "markdown",
      "metadata": {
        "id": "qjUWYugev8Fe"
      },
      "source": [
        "We use a simple MLP with one hidden layer for this regression task:"
      ]
    },
    {
      "cell_type": "code",
      "execution_count": 24,
      "metadata": {
        "id": "wcJYqSJ60TBn"
      },
      "outputs": [],
      "source": [
        "class MLP(nn.Module):\n",
        "    \"\"\" Defnition of Sine wave estimator model.\"\"\"\n",
        "    def __init__(self):\n",
        "        super().__init__()\n",
        "\n",
        "        # Model layers\n",
        "        self.layers = nn.Sequential(\n",
        "            nn.Linear(1, 40),\n",
        "            nn.ReLU(),\n",
        "            nn.Linear(40, 40),\n",
        "            nn.ReLU(),\n",
        "            nn.Linear(40, 1)\n",
        "        )\n",
        "\n",
        "    def forward(self, x):\n",
        "        return self.layers(x)\n"
      ]
    },
    {
      "cell_type": "markdown",
      "metadata": {
        "id": "r1wl4AvVv8Ff"
      },
      "source": [
        "## <font color='red'>5. Approach 1: Supervised Pre-training </font>\n",
        "In supervised pre-training, we sample a task in each step. Then, we train the sampled model for some steps. The \"converged\" model from the previous task is used for training on the next task."
      ]
    },
    {
      "cell_type": "markdown",
      "metadata": {
        "id": "8qXowBiPv8Ff"
      },
      "source": [
        "\n",
        "<img align='center' style='max-width: 1200px' src='https://github.com/HSG-AIML-Teaching/DL2025-Lab/blob/main/lab_1/images/supervised_pretraining.gif?raw=1'>"
      ]
    },
    {
      "cell_type": "code",
      "execution_count": 25,
      "metadata": {
        "id": "aYGAdkBZxCoJ"
      },
      "outputs": [],
      "source": [
        "def train_task_supervised(task, model, criterion, optimizer, device=torch.device(\"cpu\")):\n",
        "    # Extract datapoints and convert to compute device\n",
        "    x, y = task.sample_data(10)\n",
        "    x, y = x.to(device), y.to(device)\n",
        "\n",
        "    # Reset model gradients\n",
        "    model.zero_grad()\n",
        "\n",
        "    # Make prediction and compute loss\n",
        "    pred = model(x)\n",
        "    loss = criterion(pred, y)\n",
        "\n",
        "    # Compute gradients and update model\n",
        "    loss.backward()\n",
        "    optimizer.step()\n",
        "\n",
        "    return loss\n",
        "\n",
        "def pretrained_supervised(n_iterations=1000, device=torch.device(\"cpu\")):\n",
        "    \"\"\" Pretrains a model on a distribution of tasks in a supervised manner.\n",
        "\n",
        "        n_iterations: number of iterations.\n",
        "    \"\"\"\n",
        "    # Define model, optimizer and criterion\n",
        "    model = MLP()\n",
        "    model.to(device)\n",
        "    optimizer = torch.optim.Adam(model.parameters(), lr=0.01)\n",
        "    criterion = nn.MSELoss()\n",
        "\n",
        "    # Progress bar\n",
        "    progress = tqdm.tqdm(range(n_iterations))\n",
        "\n",
        "    # List to store losses\n",
        "    losses = []\n",
        "\n",
        "    for itr in progress:\n",
        "        # Sample a task\n",
        "        task = task_dist.sample_task()\n",
        "\n",
        "        loss = train_task_supervised(task, model, criterion, optimizer, device)\n",
        "\n",
        "        # Log loss value\n",
        "        if itr % 10 == 0:\n",
        "            losses.append(loss.item())\n",
        "\n",
        "        progress.set_description(f\"Loss: {loss.item():0.4f}\")\n",
        "        progress.update()\n",
        "\n",
        "    # Plot loss curve\n",
        "    plt.plot(list(range(len(losses))), losses)\n",
        "    plt.xlabel(\"Iterations\")\n",
        "    plt.ylabel(\"Training Loss\")\n",
        "    return model"
      ]
    },
    {
      "cell_type": "code",
      "execution_count": 26,
      "metadata": {
        "colab": {
          "base_uri": "https://localhost:8080/",
          "height": 466
        },
        "id": "-8BGsa7i2NUq",
        "outputId": "f8187a92-ce44-496c-ff94-ac1be9f0d42c"
      },
      "outputs": [
        {
          "output_type": "stream",
          "name": "stderr",
          "text": [
            "Loss: 1.1001: 100%|██████████| 10000/10000 [00:27<00:00, 362.09it/s]\n"
          ]
        },
        {
          "output_type": "display_data",
          "data": {
            "text/plain": [
              "<Figure size 640x480 with 1 Axes>"
            ],
            "image/png": "[encoded data removed]"
          },
          "metadata": {}
        }
      ],
      "source": [
        "model_pretrained = pretrained_supervised(n_iterations=10000)"
      ]
    },
    {
      "cell_type": "markdown",
      "metadata": {
        "id": "DjMYYwo-v8Fh"
      },
      "source": [
        "## <font color='red'>6. Approach 2: MAML</font>\n",
        "\n",
        "<img align=\"center\" width=\"300\" src=\"https://github.com/HSG-AIML-Teaching/DL2025-Lab/blob/main/lab_1/images/maml.png?raw=1\">\n",
        "\n",
        "###### Image source, and more about MAML: https://bair.berkeley.edu/blog/2017/07/18/learning-to-learn/\n",
        "\n"
      ]
    },
    {
      "cell_type": "markdown",
      "metadata": {
        "id": "RpSM8pmFv8Fh"
      },
      "source": [
        "In MAML, instead of immediately updating the model (meta-model) in eack task, we \"simulate\" the optimization steps for a set of tasks to obtain gradients from each task separately. Then, we use the obtained gradients from all tasks to compute the meta-gradient (by averaging them) and update the meta-model.\n",
        "\n"
      ]
    },
    {
      "cell_type": "markdown",
      "metadata": {
        "id": "7RDSOacsv8Fh"
      },
      "source": [
        "\n",
        "<img align='center' style='max-width: 1200px' src='https://github.com/HSG-AIML-Teaching/DL2025-Lab/blob/main/lab_1/images/meta_learning.gif?raw=1'>"
      ]
    },
    {
      "cell_type": "markdown",
      "metadata": {
        "id": "Eg4LsM5Zv8Fh"
      },
      "source": [
        "One the meta-gradient is calcualted, we manually assing the meta-gradient to the meta-model with the following function:"
      ]
    },
    {
      "cell_type": "code",
      "execution_count": 27,
      "metadata": {
        "id": "9k-qX_nbv8Fi"
      },
      "outputs": [],
      "source": [
        "def apply_grad(params, grad):\n",
        "    for p, g in zip(params, grad):\n",
        "        p.grad = g"
      ]
    },
    {
      "cell_type": "markdown",
      "metadata": {
        "id": "9voDgoYbv8Fj"
      },
      "source": [
        "In the inner loop, we try to \"simulate\" the optimization steps of a particular task to \"assess\" how the meta-model performs by training it on the current task after only few SGD steps and few samples:"
      ]
    },
    {
      "cell_type": "code",
      "execution_count": 28,
      "metadata": {
        "id": "EqsRwzixv8Fj"
      },
      "outputs": [],
      "source": [
        "def inner_loop(task, model, criterion, device):\n",
        "    \"\"\" Implements the inner loop of a meta-learning task.\n",
        "        The inner loop \"simulates\" one task.\n",
        "    \"\"\"\n",
        "    params_initial = deepcopy(dict(model.named_parameters()))\n",
        "    lr_inner = 0.01\n",
        "\n",
        "    # Sample data for meta-train train-set\n",
        "    x_train, y_train = task.sample_data(10)\n",
        "    x_train, y_train = x_train.to(device), y_train.to(device)\n",
        "\n",
        "    # Update model for one SGD step\n",
        "    pred = functional_call(model, params_initial, x_train)\n",
        "    loss = criterion(pred, y_train)\n",
        "    grad = torch.autograd.grad(loss, params_initial.values(), retain_graph=True, create_graph=True)\n",
        "    apply_grad(params_initial.values(), grad)\n",
        "    params_updated = {\n",
        "      n: p - lr_inner * g for ((n, p), g) in zip(params_initial.items(), grad)\n",
        "    }\n",
        "\n",
        "    # Use the updated parameters to compute meta-train test loss\n",
        "    x_test, y_test = task.sample_data(10)\n",
        "    x_test, y_test = x_test.to(device), y_test.to(device)\n",
        "    pred_test = functional_call(model, params_updated, x_test)\n",
        "    loss_test = criterion(pred_test, y_test)\n",
        "\n",
        "    grad = torch.autograd.grad(loss_test, params_initial.values())\n",
        "\n",
        "    return grad, loss_test\n"
      ]
    },
    {
      "cell_type": "markdown",
      "metadata": {
        "id": "s0SzJheFv8Fj"
      },
      "source": [
        "The main training loop for the meta-training procedure:"
      ]
    },
    {
      "cell_type": "code",
      "execution_count": 29,
      "metadata": {
        "id": "e1XAqPvCDggl"
      },
      "outputs": [],
      "source": [
        "def meta_train_maml(n_iterations=1000, n_meta_tasks=10, device=torch.device(\"cpu\")):\n",
        "    \"\"\" Meta-trains a model on a distribution of tasks.\n",
        "        n_iterations: number of iterations.\n",
        "        n_meta_tasks: number of tasks in each iterations.\n",
        "    \"\"\"\n",
        "    # Define model, optimizer and criterion\n",
        "    model = MLP()\n",
        "    model.to(device)\n",
        "    criterion = nn.MSELoss()\n",
        "    optimizer_meta = torch.optim.Adam(model.parameters(), lr=0.01)\n",
        "\n",
        "    # Progress bar\n",
        "    progress = tqdm.tqdm(list(range(n_iterations)))\n",
        "\n",
        "    # List of meta-losses\n",
        "    meta_losses = []\n",
        "\n",
        "    # Iterate for n_iteration times\n",
        "    for itr in progress:\n",
        "        # Zero all gradients\n",
        "        model.zero_grad()\n",
        "\n",
        "        # List to store meta-gradients for tasks at step `itr`\n",
        "        meta_batch_grads = []\n",
        "\n",
        "        # List to store meta-gradients at step `itr`\n",
        "        meta_batch_losses = []\n",
        "\n",
        "        # Iterate for `n_meta_tasks` times\n",
        "        for i in range(n_meta_tasks):\n",
        "            # Sample a random task\n",
        "            task = task_dist.sample_task()\n",
        "\n",
        "            # Compute the gradient and loss in the inner loo\n",
        "            grad, loss = inner_loop(task, model, criterion, device)\n",
        "\n",
        "            meta_batch_grads.append(grad)\n",
        "            meta_batch_losses.append(loss.item())\n",
        "\n",
        "        # Compute the mean of gradients over the sampled tasks\n",
        "        meta_loss = sum(meta_batch_losses) / len(meta_batch_losses)\n",
        "        meta_grad = [sum(g) / len(g) for g in zip(*meta_batch_grads)]\n",
        "\n",
        "        # Assign the meta-gradients to the meta-model\n",
        "        apply_grad(model.parameters(), meta_grad)\n",
        "\n",
        "        # Update meta-model\n",
        "        optimizer_meta.step()\n",
        "\n",
        "        # Log meta-loss\n",
        "        if itr % 10 == 0:\n",
        "            meta_losses.append(meta_loss)\n",
        "        progress.set_description(f\"Meta-loss: {meta_loss:0.2f}\")\n",
        "        progress.update()\n",
        "\n",
        "    plt.plot(list(range(len(meta_losses))), meta_losses)\n",
        "    plt.xlabel(\"Iterations\")\n",
        "    plt.ylabel(\"Meta-Training Loss\")\n",
        "\n",
        "    return model"
      ]
    },
    {
      "cell_type": "code",
      "execution_count": 30,
      "metadata": {
        "colab": {
          "base_uri": "https://localhost:8080/",
          "height": 557
        },
        "id": "e7fmLmwErf93",
        "outputId": "116911e8-73c5-4385-d6c1-79aaa22e09a9"
      },
      "outputs": [
        {
          "output_type": "stream",
          "name": "stderr",
          "text": [
            "\r  0%|          | 0/10000 [00:00<?, ?it/s]/tmp/ipython-input-1566724693.py:13: FutureWarning: `torch.nn.utils.stateless.functional_call` is deprecated as of PyTorch 2.0 and will be removed in a future version of PyTorch. Please use `torch.func.functional_call` instead which is a drop-in replacement.\n",
            "  pred = functional_call(model, params_initial, x_train)\n",
            "/tmp/ipython-input-1566724693.py:24: FutureWarning: `torch.nn.utils.stateless.functional_call` is deprecated as of PyTorch 2.0 and will be removed in a future version of PyTorch. Please use `torch.func.functional_call` instead which is a drop-in replacement.\n",
            "  pred_test = functional_call(model, params_updated, x_test)\n",
            "Meta-loss: 0.35: 100%|██████████| 10000/10000 [04:22<00:00, 38.07it/s]\n"
          ]
        },
        {
          "output_type": "display_data",
          "data": {
            "text/plain": [
              "<Figure size 640x480 with 1 Axes>"
            ],
            "image/png": "[encoded data removed]"
          },
          "metadata": {}
        }
      ],
      "source": [
        "model_meta = meta_train_maml(n_iterations=10000, n_meta_tasks=10)"
      ]
    },
    {
      "cell_type": "markdown",
      "metadata": {
        "id": "HTajbdWcv8Fl"
      },
      "source": [
        "## <font color='red'>7. Model Adaptation: Testing Both Approaches</font>"
      ]
    },
    {
      "cell_type": "markdown",
      "metadata": {
        "id": "zBgsZBS7v8Fl"
      },
      "source": [
        "Once the model is trained, we test the model with a new sine wave task.\n",
        "\n",
        "First we adapt the model to the new task using very few samples and SGD steps, then we employ the adapted model for prediction on unseen samples of that task."
      ]
    },
    {
      "cell_type": "code",
      "execution_count": 31,
      "metadata": {
        "id": "axnCYT5Pv8Fm"
      },
      "outputs": [],
      "source": [
        "def adapt_model(model_original, x, y, n_steps=1):\n",
        "    \"\"\" Adapts a model using samples (x, y) with n steps of SGD.\n",
        "\n",
        "        model_original: trained model\n",
        "        x, y: data samples\n",
        "        n_steps: number of gradient descent steps\n",
        "    \"\"\"\n",
        "    # Make a copy of the model to avoid changes to the original model\n",
        "    model = deepcopy(model_original)\n",
        "\n",
        "    # Set model train mode\n",
        "    model.train()\n",
        "\n",
        "    # Optimizer and criteiron for adaptation\n",
        "    optimizer = torch.optim.SGD(model.parameters(), lr=0.01)\n",
        "    criterion = nn.MSELoss()\n",
        "\n",
        "    # Adapt the model for n steps\n",
        "    for i in range(n_steps):\n",
        "        model.zero_grad()\n",
        "        pred = model(x)\n",
        "        loss = criterion(pred, y)\n",
        "        loss.backward()\n",
        "        optimizer.step()\n",
        "\n",
        "    return model"
      ]
    },
    {
      "cell_type": "markdown",
      "metadata": {
        "id": "sAdmzUyVv8Fm"
      },
      "source": [
        "For adaptation, we randomly sample a task from the task distribution and then randomly sample n data-points to adapt the model. <br>\n",
        "The number of samples (n), determines the number of shots, therefore we say the problem is an *n-shot learning* problem."
      ]
    },
    {
      "cell_type": "code",
      "execution_count": 32,
      "metadata": {
        "id": "FfOziofcv8Fm",
        "outputId": "c0abdecd-0732-442b-c449-d7756cdf28d8",
        "colab": {
          "base_uri": "https://localhost:8080/"
        }
      },
      "outputs": [
        {
          "output_type": "execute_result",
          "data": {
            "text/plain": [
              "MLP(\n",
              "  (layers): Sequential(\n",
              "    (0): Linear(in_features=1, out_features=40, bias=True)\n",
              "    (1): ReLU()\n",
              "    (2): Linear(in_features=40, out_features=40, bias=True)\n",
              "    (3): ReLU()\n",
              "    (4): Linear(in_features=40, out_features=1, bias=True)\n",
              "  )\n",
              ")"
            ]
          },
          "metadata": {},
          "execution_count": 32
        }
      ],
      "source": [
        "device = torch.device(\"cpu\")\n",
        "\n",
        "# Sample a random task\n",
        "task = task_dist.sample_task()\n",
        "\n",
        "# Use few samples to adapt the model\n",
        "x, y = task.sample_data(10)\n",
        "x, y = x.to(device), y.to(device)\n",
        "\n",
        "# Adapt the supervised pre-trained model and set eval mode on\n",
        "model_pretrained_adapted = adapt_model(model_pretrained, x, y, n_steps=1)\n",
        "model_pretrained_adapted.eval()\n",
        "\n",
        "# Adapt the meta-model and set eval mode on\n",
        "model_meta_adapted = adapt_model(model_meta, x, y, n_steps=5)\n",
        "model_meta_adapted.eval()"
      ]
    },
    {
      "cell_type": "markdown",
      "metadata": {
        "id": "h4pJXNcYv8Fn"
      },
      "source": [
        "Finally, we plot the results for the adapted models. </br>\n"
      ]
    },
    {
      "cell_type": "code",
      "execution_count": 33,
      "metadata": {
        "colab": {
          "base_uri": "https://localhost:8080/",
          "height": 485
        },
        "id": "OU5vyAufulp2",
        "outputId": "436cc4ff-24d7-4f78-a135-03aa421b7adc"
      },
      "outputs": [
        {
          "output_type": "execute_result",
          "data": {
            "text/plain": [
              "Text(0.5, 1.0, 'Meta-Model')"
            ]
          },
          "metadata": {},
          "execution_count": 33
        },
        {
          "output_type": "display_data",
          "data": {
            "text/plain": [
              "<Figure size 1000x500 with 2 Axes>"
            ],
            "image/png": "[encoded data removed]"
          },
          "metadata": {}
        }
      ],
      "source": [
        "# ==============================> Plot results\n",
        "\n",
        "# Create sub-plots\n",
        "fig, ax = plt.subplots(nrows=1, ncols=2, figsize=(10, 5))\n",
        "\n",
        "# -----> Plot supervised-pretrained model results\n",
        "# GT\n",
        "gt_x = np.linspace(task.xmin, task.xmax, 1000)\n",
        "gt_y = task.amplitude * np.sin(gt_x + task.phase)\n",
        "ax[0].plot(gt_x, gt_y, c='black', linewidth=3.0, linestyle=\"dashed\", alpha=0.5)\n",
        "ax[0].scatter(x.cpu().numpy().reshape(-1), y.cpu().numpy().reshape(-1), c='red', s=50)\n",
        "\n",
        "# Prediction\n",
        "gt_x_tensor = torch.FloatTensor(gt_x).unsqueeze(1).to(device)\n",
        "pred_pretrained = model_pretrained_adapted(gt_x_tensor).detach().cpu().squeeze().numpy()\n",
        "ax[0].plot(gt_x, pred_pretrained, c='green', linewidth=2.0)\n",
        "ax[0].set_title(\"Supervised Pre-trained Model\")\n",
        "\n",
        "# -----> Plot meta-model results\n",
        "\n",
        "# GT\n",
        "gt_x = np.linspace(task.xmin, task.xmax, 1000)\n",
        "gt_y = task.amplitude * np.sin(gt_x + task.phase)\n",
        "ax[1].plot(gt_x, gt_y, c='black', linewidth=3.0, linestyle=\"dashed\", alpha=0.5)\n",
        "ax[1].scatter(x.cpu().numpy().reshape(-1), y.cpu().numpy().reshape(-1), c='red', s=50)\n",
        "\n",
        "# Prediction\n",
        "gt_x_tensor = torch.FloatTensor(gt_x).unsqueeze(1).to(device)\n",
        "pred_meta = model_meta_adapted(gt_x_tensor).detach().cpu().squeeze().numpy()\n",
        "ax[1].plot(gt_x, pred_meta, c='blue', linewidth=2.0)\n",
        "\n",
        "ax[1].set_title(\"Meta-Model\")"
      ]
    },
    {
      "cell_type": "code",
      "execution_count": 33,
      "metadata": {
        "id": "S-Gz1Y7qv8Fo"
      },
      "outputs": [],
      "source": []
    }
  ],
  "metadata": {
    "accelerator": "GPU",
    "colab": {
      "provenance": []
    },
    "gpuClass": "standard",
    "kernelspec": {
      "display_name": "Python 3",
      "language": "python",
      "name": "python3"
    },
    "language_info": {
      "codemirror_mode": {
        "name": "ipython",
        "version": 3
      },
      "file_extension": ".py",
      "mimetype": "text/x-python",
      "name": "python",
      "nbconvert_exporter": "python",
      "pygments_lexer": "ipython3",
      "version": "3.9.16"
    }
  },
  "nbformat": 4,
  "nbformat_minor": 0
}